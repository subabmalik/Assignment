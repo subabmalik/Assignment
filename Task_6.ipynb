{
 "cells": [
  {
   "cell_type": "code",
   "execution_count": 4,
   "id": "f85b2bf7",
   "metadata": {},
   "outputs": [
    {
     "name": "stdout",
     "output_type": "stream",
     "text": [
      "Minimum value node in the list: 1\n",
      "Maximum value node in the list: 20\n"
     ]
    }
   ],
   "source": [
    "class Node:    \n",
    "    def __init__(self,data):    \n",
    "        self.data = data;    \n",
    "        self.next = None;    \n",
    "     \n",
    "class CreateList:    \n",
    "    #Declaring head and tail pointer as null.    \n",
    "    def __init__(self):    \n",
    "        self.head = Node(None);    \n",
    "        self.tail = Node(None);    \n",
    "        self.head.next = self.tail;    \n",
    "        self.tail.next = self.head;    \n",
    "        \n",
    "    #This function will add the new node at the end of the list.    \n",
    "    def add(self,data):    \n",
    "        newNode = Node(data);    \n",
    "        #Checks if the list is empty.    \n",
    "        if self.head.data is None:    \n",
    "            #If list is empty, both head and tail would point to new node.    \n",
    "            self.head = newNode;    \n",
    "            self.tail = newNode;    \n",
    "            newNode.next = self.head;    \n",
    "        else:    \n",
    "            #tail will point to new node.    \n",
    "            self.tail.next = newNode;    \n",
    "            #New node will become new tail.    \n",
    "            self.tail = newNode;    \n",
    "            #Since, it is circular linked list tail will point to head.    \n",
    "            self.tail.next = self.head;    \n",
    "                \n",
    "    #Finds out the minimum value node in the list    \n",
    "    def minNode(self):    \n",
    "        current = self.head;    \n",
    "        #Initializing min to initial node data    \n",
    "        minimum = self.head.data;    \n",
    "        if(self.head == None):    \n",
    "            print(\"List is empty\");    \n",
    "        else:    \n",
    "            while(True):    \n",
    "                #If current node's data is smaller than min    \n",
    "                #Then replace value of min with current node's data    \n",
    "                if(minimum > current.data):    \n",
    "                    minimum = current.data;    \n",
    "                current= current.next;    \n",
    "                if(current == self.head):    \n",
    "                    break;    \n",
    "        print(\"Minimum value node in the list: \"+ str(minimum));    \n",
    "     \n",
    "    #Finds out the maximum value node in the list    \n",
    "    def maxNode(self):    \n",
    "        current = self.head;    \n",
    "        #Initializing max to initial node data    \n",
    "        maximum = self.head.data;    \n",
    "        if(self.head == None):    \n",
    "            print(\"List is empty\");    \n",
    "        else:    \n",
    "            while(True):    \n",
    "                #If current node's data is greater than max    \n",
    "                #Then replace value of max with current node's data    \n",
    "                if(maximum < current.data):    \n",
    "                    maximum = current.data;    \n",
    "                current= current.next;    \n",
    "                if(current == self.head):    \n",
    "                    break;    \n",
    "        print(\"Maximum value node in the list: \"+ str(maximum));    \n",
    "     \n",
    "class CircularLinkedList:    \n",
    "    cl = CreateList();    \n",
    "    #Adds data to the list    \n",
    "    cl.add(5);    \n",
    "    cl.add(20);    \n",
    "    cl.add(10);    \n",
    "    cl.add(1);    \n",
    "    #Prints the minimum value node in the list    \n",
    "    cl.minNode();    \n",
    "    #Prints the maximum value node in the list    \n",
    "    cl.maxNode(); "
   ]
  },
  {
   "cell_type": "code",
   "execution_count": null,
   "id": "beb62162",
   "metadata": {},
   "outputs": [],
   "source": []
  }
 ],
 "metadata": {
  "kernelspec": {
   "display_name": "Python 3 (ipykernel)",
   "language": "python",
   "name": "python3"
  },
  "language_info": {
   "codemirror_mode": {
    "name": "ipython",
    "version": 3
   },
   "file_extension": ".py",
   "mimetype": "text/x-python",
   "name": "python",
   "nbconvert_exporter": "python",
   "pygments_lexer": "ipython3",
   "version": "3.9.4"
  }
 },
 "nbformat": 4,
 "nbformat_minor": 5
}
