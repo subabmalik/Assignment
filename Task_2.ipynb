{
 "cells": [
  {
   "cell_type": "code",
   "execution_count": 1,
   "id": "e911e3c1",
   "metadata": {},
   "outputs": [
    {
     "ename": "SyntaxError",
     "evalue": "invalid syntax (Temp/ipykernel_16656/315006575.py, line 18)",
     "output_type": "error",
     "traceback": [
      "\u001b[1;36m  File \u001b[1;32m\"C:\\Users\\TechNo\\AppData\\Local\\Temp/ipykernel_16656/315006575.py\"\u001b[1;36m, line \u001b[1;32m18\u001b[0m\n\u001b[1;33m    print \"Number of circular primes =\", len(arr)\u001b[0m\n\u001b[1;37m          ^\u001b[0m\n\u001b[1;31mSyntaxError\u001b[0m\u001b[1;31m:\u001b[0m invalid syntax\n"
     ]
    }
   ],
   "source": [
    "arr = []\n",
    "\n",
    "for i in range(2, len(sieve)):\n",
    "    if sieve[i]:\n",
    "        sub_arr = retCircular(i)\n",
    "        count = len(sub_arr)\n",
    "        carry = 0\n",
    "        for j in sub_arr:\n",
    "            if sieve[j]:\n",
    "                carry += 1\n",
    "                sieve[j] = False\n",
    "            else:\n",
    "                break\n",
    "        if carry == count:\n",
    "            for j in sub_arr:\n",
    "                arr.append(j)\n",
    "\n",
    "print \"Number of circular primes =\", len(arr)"
   ]
  },
  {
   "cell_type": "code",
   "execution_count": null,
   "id": "096b4d75",
   "metadata": {},
   "outputs": [],
   "source": []
  }
 ],
 "metadata": {
  "kernelspec": {
   "display_name": "Python 3 (ipykernel)",
   "language": "python",
   "name": "python3"
  },
  "language_info": {
   "codemirror_mode": {
    "name": "ipython",
    "version": 3
   },
   "file_extension": ".py",
   "mimetype": "text/x-python",
   "name": "python",
   "nbconvert_exporter": "python",
   "pygments_lexer": "ipython3",
   "version": "3.9.4"
  }
 },
 "nbformat": 4,
 "nbformat_minor": 5
}
