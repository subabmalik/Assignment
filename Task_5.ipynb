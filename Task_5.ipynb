{
 "cells": [
  {
   "cell_type": "code",
   "execution_count": 3,
   "id": "61ce5215",
   "metadata": {},
   "outputs": [
    {
     "ename": "SyntaxError",
     "evalue": "Missing parentheses in call to 'print'. Did you mean print(counter)? (Temp/ipykernel_16656/109963443.py, line 23)",
     "output_type": "error",
     "traceback": [
      "\u001b[1;36m  File \u001b[1;32m\"C:\\Users\\TechNo\\AppData\\Local\\Temp/ipykernel_16656/109963443.py\"\u001b[1;36m, line \u001b[1;32m23\u001b[0m\n\u001b[1;33m    print counter\u001b[0m\n\u001b[1;37m          ^\u001b[0m\n\u001b[1;31mSyntaxError\u001b[0m\u001b[1;31m:\u001b[0m Missing parentheses in call to 'print'. Did you mean print(counter)?\n"
     ]
    }
   ],
   "source": [
    "def is_lychrel(n):\n",
    "    \"\"\"this function will check if the number\n",
    "    is lychrel number or not\"\"\"\n",
    "    # fifty iterations\n",
    "    for i in xrange(50):\n",
    "        # sum of number and reverse\n",
    "        number = n + int(str(n)[::-1])\n",
    "        # if is palindrome\n",
    "        if str(number) == str(number)[::-1]:\n",
    "            return False\n",
    "        n = number\n",
    "    return True\n",
    "\n",
    "# counter to count\n",
    "counter = 0\n",
    "\n",
    "# looping till ten thousand\n",
    "for i in xrange(10001):\n",
    "    if is_lychrel(i):\n",
    "        counter += 1\n",
    "\n",
    "# printing the counter\n",
    "print counter\n",
    "\n",
    "# time at the end of program execution\n",
    "end = time.time()\n",
    "\n",
    "# total time of execution\n",
    "print end - start"
   ]
  },
  {
   "cell_type": "code",
   "execution_count": null,
   "id": "47b2740d",
   "metadata": {},
   "outputs": [],
   "source": []
  }
 ],
 "metadata": {
  "kernelspec": {
   "display_name": "Python 3 (ipykernel)",
   "language": "python",
   "name": "python3"
  },
  "language_info": {
   "codemirror_mode": {
    "name": "ipython",
    "version": 3
   },
   "file_extension": ".py",
   "mimetype": "text/x-python",
   "name": "python",
   "nbconvert_exporter": "python",
   "pygments_lexer": "ipython3",
   "version": "3.9.4"
  }
 },
 "nbformat": 4,
 "nbformat_minor": 5
}
